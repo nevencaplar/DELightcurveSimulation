{
 "cells": [
  {
   "cell_type": "code",
   "execution_count": 7,
   "metadata": {
    "ExecuteTime": {
     "end_time": "2020-04-03T16:40:23.678478Z",
     "start_time": "2020-04-03T16:40:23.647172Z"
    }
   },
   "outputs": [
    {
     "data": {
      "application/javascript": [
       "try {\n",
       "  require(['base/js/utils'], function (utils) {\n",
       "    utils.load_extension('code_prettify/code_prettify');\n",
       "    utils.load_extension('collapsible_headings/main'); \n",
       "    utils.load_extension('codefolding/edit'); \n",
       "    utils.load_extension('codefolding/main'); \n",
       "    utils.load_extension('execute_time/ExecuteTime');   \n",
       "    utils.load_extension('toc2/main'); \n",
       "  });\n",
       "}\n",
       "catch (err) {\n",
       "  console.log('toc2 load error:', err);\n",
       "}"
      ],
      "text/plain": [
       "<IPython.core.display.Javascript object>"
      ]
     },
     "metadata": {},
     "output_type": "display_data"
    }
   ],
   "source": [
    "%%javascript\n",
    "try {\n",
    "  require(['base/js/utils'], function (utils) {\n",
    "    utils.load_extension('code_prettify/code_prettify');\n",
    "    utils.load_extension('collapsible_headings/main'); \n",
    "    utils.load_extension('codefolding/edit'); \n",
    "    utils.load_extension('codefolding/main'); \n",
    "    utils.load_extension('execute_time/ExecuteTime');   \n",
    "    utils.load_extension('toc2/main'); \n",
    "  });\n",
    "}\n",
    "catch (err) {\n",
    "  console.log('toc2 load error:', err);\n",
    "}"
   ]
  },
  {
   "cell_type": "code",
   "execution_count": 8,
   "metadata": {
    "ExecuteTime": {
     "end_time": "2020-04-03T16:40:23.986077Z",
     "start_time": "2020-04-03T16:40:23.956124Z"
    }
   },
   "outputs": [
    {
     "data": {
      "text/html": [
       "<style>.container { width:100% !important; }</style>"
      ],
      "text/plain": [
       "<IPython.core.display.HTML object>"
      ]
     },
     "metadata": {},
     "output_type": "display_data"
    }
   ],
   "source": [
    "from IPython.core.display import display, HTML\n",
    "display(HTML(\"<style>.container { width:100% !important; }</style>\"))"
   ]
  },
  {
   "cell_type": "code",
   "execution_count": 13,
   "metadata": {
    "ExecuteTime": {
     "end_time": "2020-04-03T16:47:17.579232Z",
     "start_time": "2020-04-03T16:47:16.469723Z"
    }
   },
   "outputs": [
    {
     "name": "stdout",
     "output_type": "stream",
     "text": [
      "The autoreload extension is already loaded. To reload it, use:\n",
      "  %reload_ext autoreload\n"
     ]
    }
   ],
   "source": [
    "%load_ext autoreload\n",
    "%autoreload 2\n",
    "\n",
    "\n",
    "#import statments\n",
    "import numpy as np\n",
    "import pandas as pd\n",
    "import io\n",
    "from tqdm import tqdm\n",
    "from __future__ import division\n",
    "\n",
    "import DELCgen\n",
    "# this is the package that actually generates the SFR histories\n",
    "from DELCgen import *\n",
    "\n",
    "import matplotlib\n",
    "import matplotlib.pyplot as plt\n",
    "from matplotlib.colors import LogNorm\n",
    "matplotlib.rcParams.update({'font.size': 24})\n",
    "%config InlineBackend.rc = {}\n",
    "%matplotlib inline"
   ]
  },
  {
   "cell_type": "code",
   "execution_count": 14,
   "metadata": {
    "ExecuteTime": {
     "end_time": "2020-04-03T16:47:18.126396Z",
     "start_time": "2020-04-03T16:47:18.082144Z"
    },
    "collapsed": true
   },
   "outputs": [],
   "source": [
    "# amplitude\n",
    "A=1\n",
    "#slope on the short time scales\n",
    "a_low=1\n",
    "#slope on the longer time scales \n",
    "a_high=2\n",
    "# intercept/offset: adds constant to the final output; not used it this work\n",
    "c=0\n",
    "\n",
    "# set frequency of the break\n",
    "v_bend_Example1=1.0/(20)"
   ]
  },
  {
   "cell_type": "code",
   "execution_count": 15,
   "metadata": {
    "ExecuteTime": {
     "end_time": "2020-04-03T16:47:18.831573Z",
     "start_time": "2020-04-03T16:47:18.796063Z"
    },
    "collapsed": true
   },
   "outputs": [],
   "source": [
    "def find_nearest(array, value):\n",
    "    array = np.asarray(array)\n",
    "    idx = (np.abs(array - value)).argmin()\n",
    "    return array[idx]"
   ]
  },
  {
   "cell_type": "code",
   "execution_count": 18,
   "metadata": {
    "ExecuteTime": {
     "end_time": "2020-04-03T16:49:40.542811Z",
     "start_time": "2020-04-03T16:49:40.275174Z"
    }
   },
   "outputs": [
    {
     "name": "stdout",
     "output_type": "stream",
     "text": [
      "15000.0\n"
     ]
    },
    {
     "ename": "TypeError",
     "evalue": "'float' object cannot be interpreted as an integer",
     "output_type": "error",
     "traceback": [
      "\u001b[0;31m---------------------------------------------------------------------------\u001b[0m",
      "\u001b[0;31mTypeError\u001b[0m                                 Traceback (most recent call last)",
      "\u001b[0;32m<ipython-input-18-0f49ad9ca42e>\u001b[0m in \u001b[0;36m<module>\u001b[0;34m()\u001b[0m\n\u001b[1;32m      1\u001b[0m \u001b[0mv_bend_1\u001b[0m\u001b[0;34m=\u001b[0m\u001b[0;36m1.0\u001b[0m\u001b[0;34m/\u001b[0m\u001b[0;34m(\u001b[0m\u001b[0;36m10\u001b[0m\u001b[0;34m**\u001b[0m\u001b[0;36m3.5\u001b[0m\u001b[0;34m)\u001b[0m\u001b[0;34m\u001b[0m\u001b[0;34m\u001b[0m\u001b[0m\n\u001b[1;32m      2\u001b[0m \u001b[0mv_bend_2\u001b[0m\u001b[0;34m=\u001b[0m\u001b[0;36m1.0\u001b[0m\u001b[0;34m/\u001b[0m\u001b[0;34m(\u001b[0m\u001b[0;36m10\u001b[0m\u001b[0;34m**\u001b[0m\u001b[0;36m1.5\u001b[0m\u001b[0;34m)\u001b[0m\u001b[0;34m\u001b[0m\u001b[0;34m\u001b[0m\u001b[0m\n\u001b[0;32m----> 3\u001b[0;31m \u001b[0mdelc_2_3\u001b[0m \u001b[0;34m=\u001b[0m\u001b[0mSimulate_TK_Lightcurve\u001b[0m\u001b[0;34m(\u001b[0m\u001b[0mBending2PL\u001b[0m\u001b[0;34m,\u001b[0m \u001b[0;34m(\u001b[0m\u001b[0mA\u001b[0m\u001b[0;34m,\u001b[0m\u001b[0mv_bend_1\u001b[0m\u001b[0;34m,\u001b[0m\u001b[0mv_bend_2\u001b[0m\u001b[0;34m,\u001b[0m\u001b[0ma_low\u001b[0m\u001b[0;34m,\u001b[0m\u001b[0ma_high\u001b[0m\u001b[0;34m,\u001b[0m\u001b[0;36m0\u001b[0m\u001b[0;34m)\u001b[0m\u001b[0;34m,\u001b[0m\u001b[0mRedNoiseL\u001b[0m\u001b[0;34m=\u001b[0m\u001b[0;36m1\u001b[0m\u001b[0;34m,\u001b[0m\u001b[0maliasTbin\u001b[0m\u001b[0;34m=\u001b[0m\u001b[0;36m1\u001b[0m\u001b[0;34m,\u001b[0m\u001b[0mtbin\u001b[0m \u001b[0;34m=\u001b[0m \u001b[0;36m1\u001b[0m\u001b[0;34m,\u001b[0m\u001b[0mlength\u001b[0m\u001b[0;34m=\u001b[0m\u001b[0;36m30000\u001b[0m\u001b[0;34m,\u001b[0m\u001b[0mrandomSeed\u001b[0m\u001b[0;34m=\u001b[0m\u001b[0;36m1234\u001b[0m\u001b[0;34m)\u001b[0m\u001b[0;34m\u001b[0m\u001b[0;34m\u001b[0m\u001b[0m\n\u001b[0m\u001b[1;32m      4\u001b[0m \u001b[0;34m\u001b[0m\u001b[0m\n\u001b[1;32m      5\u001b[0m \u001b[0mv_bend_1_index\u001b[0m\u001b[0;34m=\u001b[0m\u001b[0mlist\u001b[0m\u001b[0;34m(\u001b[0m\u001b[0mnp\u001b[0m\u001b[0;34m.\u001b[0m\u001b[0marange\u001b[0m\u001b[0;34m(\u001b[0m\u001b[0;34m-\u001b[0m\u001b[0;36m5\u001b[0m\u001b[0;34m,\u001b[0m\u001b[0;34m+\u001b[0m\u001b[0;36m0\u001b[0m\u001b[0;34m,\u001b[0m\u001b[0;36m0.1\u001b[0m\u001b[0;34m)\u001b[0m\u001b[0;34m)\u001b[0m\u001b[0;34m.\u001b[0m\u001b[0mindex\u001b[0m\u001b[0;34m(\u001b[0m\u001b[0mfind_nearest\u001b[0m\u001b[0;34m(\u001b[0m\u001b[0mnp\u001b[0m\u001b[0;34m.\u001b[0m\u001b[0marange\u001b[0m\u001b[0;34m(\u001b[0m\u001b[0;34m-\u001b[0m\u001b[0;36m5\u001b[0m\u001b[0;34m,\u001b[0m\u001b[0;34m+\u001b[0m\u001b[0;36m0\u001b[0m\u001b[0;34m,\u001b[0m\u001b[0;36m0.1\u001b[0m\u001b[0;34m)\u001b[0m\u001b[0;34m,\u001b[0m\u001b[0mnp\u001b[0m\u001b[0;34m.\u001b[0m\u001b[0mlog10\u001b[0m\u001b[0;34m(\u001b[0m\u001b[0mv_bend_1\u001b[0m\u001b[0;34m)\u001b[0m\u001b[0;34m)\u001b[0m\u001b[0;34m)\u001b[0m\u001b[0;34m\u001b[0m\u001b[0;34m\u001b[0m\u001b[0m\n",
      "\u001b[0;32m~/Documents/Variability/Github/DELightcurveSimulation/DELCgen.py\u001b[0m in \u001b[0;36mSimulate_TK_Lightcurve\u001b[0;34m(PSDmodel, PSDparams, lightcurve, tbin, length, mean, std, RedNoiseL, aliasTbin, randomSeed)\u001b[0m\n\u001b[1;32m   1587\u001b[0m     \u001b[0mshortLC\u001b[0m\u001b[0;34m,\u001b[0m \u001b[0mfft\u001b[0m\u001b[0;34m,\u001b[0m \u001b[0mperiodogram\u001b[0m \u001b[0;34m=\u001b[0m\u001b[0;31m \u001b[0m\u001b[0;31m\\\u001b[0m\u001b[0;34m\u001b[0m\u001b[0;34m\u001b[0m\u001b[0m\n\u001b[1;32m   1588\u001b[0m         TimmerKoenig(RedNoiseL,aliasTbin,randomSeed,tbin,\n\u001b[0;32m-> 1589\u001b[0;31m                      length, PSDmodel,PSDparams,std,mean)\n\u001b[0m\u001b[1;32m   1590\u001b[0m     \u001b[0mlc\u001b[0m \u001b[0;34m=\u001b[0m \u001b[0mLightcurve\u001b[0m\u001b[0;34m(\u001b[0m\u001b[0mtime\u001b[0m\u001b[0;34m,\u001b[0m\u001b[0mshortLC\u001b[0m\u001b[0;34m,\u001b[0m\u001b[0mtbin\u001b[0m\u001b[0;34m=\u001b[0m\u001b[0mtbin\u001b[0m\u001b[0;34m)\u001b[0m\u001b[0;34m\u001b[0m\u001b[0;34m\u001b[0m\u001b[0m\n\u001b[1;32m   1591\u001b[0m \u001b[0;34m\u001b[0m\u001b[0m\n",
      "\u001b[0;32m~/Documents/Variability/Github/DELightcurveSimulation/DELCgen.py\u001b[0m in \u001b[0;36mTimmerKoenig\u001b[0;34m(RedNoiseL, aliasTbin, randomSeed, tbin, LClength, PSDmodel, PSDparams, std, mean)\u001b[0m\n\u001b[1;32m    513\u001b[0m     periodogram = np.absolute(fft)**2.0 * ((2.0*tbin*aliasTbin*RedNoiseL)/\\\n\u001b[1;32m    514\u001b[0m                    (LClength*(np.mean(lightcurve)**2)))   \n\u001b[0;32m--> 515\u001b[0;31m     \u001b[0mshortPeriodogram\u001b[0m \u001b[0;34m=\u001b[0m \u001b[0mnp\u001b[0m\u001b[0;34m.\u001b[0m\u001b[0mtake\u001b[0m\u001b[0;34m(\u001b[0m\u001b[0mperiodogram\u001b[0m\u001b[0;34m,\u001b[0m\u001b[0mrange\u001b[0m\u001b[0;34m(\u001b[0m\u001b[0;36m1\u001b[0m\u001b[0;34m,\u001b[0m\u001b[0mLClength\u001b[0m\u001b[0;34m/\u001b[0m\u001b[0;36m2\u001b[0m \u001b[0;34m+\u001b[0m\u001b[0;36m1\u001b[0m\u001b[0;34m)\u001b[0m\u001b[0;34m)\u001b[0m\u001b[0;34m\u001b[0m\u001b[0;34m\u001b[0m\u001b[0m\n\u001b[0m\u001b[1;32m    516\u001b[0m     \u001b[0;31m#shortFreq = np.take(frequency,range(1,LClength/2 +1))\u001b[0m\u001b[0;34m\u001b[0m\u001b[0;34m\u001b[0m\u001b[0;34m\u001b[0m\u001b[0m\n\u001b[1;32m    517\u001b[0m     \u001b[0mshortFreq\u001b[0m \u001b[0;34m=\u001b[0m \u001b[0mnp\u001b[0m\u001b[0;34m.\u001b[0m\u001b[0marange\u001b[0m\u001b[0;34m(\u001b[0m\u001b[0;36m1.0\u001b[0m\u001b[0;34m,\u001b[0m \u001b[0;34m(\u001b[0m\u001b[0mLClength\u001b[0m\u001b[0;34m)\u001b[0m\u001b[0;34m/\u001b[0m\u001b[0;36m2\u001b[0m \u001b[0;34m+\u001b[0m\u001b[0;36m1\u001b[0m\u001b[0;34m)\u001b[0m\u001b[0;34m/\u001b[0m \u001b[0;34m(\u001b[0m\u001b[0mLClength\u001b[0m\u001b[0;34m*\u001b[0m\u001b[0mtbin\u001b[0m\u001b[0;34m)\u001b[0m\u001b[0;34m\u001b[0m\u001b[0;34m\u001b[0m\u001b[0m\n",
      "\u001b[0;31mTypeError\u001b[0m: 'float' object cannot be interpreted as an integer"
     ]
    }
   ],
   "source": [
    "v_bend_1=1.0/(10**3.5)\n",
    "v_bend_2=1.0/(10**1.5)\n",
    "delc_2_3 =Simulate_TK_Lightcurve(Bending2PL, (A,v_bend_1,v_bend_2,a_low,a_high,0),RedNoiseL=1,aliasTbin=1,tbin = 1,length=30000,randomSeed=1234)\n",
    "\n",
    "v_bend_1_index=list(np.arange(-5,+0,0.1)).index(find_nearest(np.arange(-5,+0,0.1),np.log10(v_bend_1)))\n",
    "v_bend_2_index=list(np.arange(-5,+0,0.1)).index(find_nearest(np.arange(-5,+0,0.1),np.log10(v_bend_2)))\n",
    "\n",
    "v_bend_1_delc_index=list(np.log10(delc_2_3.freq)).index(find_nearest(np.log10(delc_2_3.freq),np.log10(v_bend_1)))\n",
    "v_bend_2_delc_index=list(np.log10(delc_2_3.freq)).index(find_nearest(np.log10(delc_2_3.freq),np.log10(v_bend_2)))\n",
    "\n",
    "PSD_2=[]\n",
    "PSD_4=[]\n",
    "PSD_2_4=[]\n",
    "for v in 10**(np.arange(-5,+0,0.1)):\n",
    "    PSD_2.append(BendingPL(v,A,v_bend_1,a_low,a_high,c))\n",
    "    PSD_4.append(BendingPL(v,A,v_bend_1,a_high,a_high+2,c))\n",
    "    PSD_2_4.append(Bending2PL(v,A,v_bend_1,v_bend_2,a_low,a_high,c))\n",
    "\n",
    "#############################################\n",
    "# Plot showing created movement around Main Sequence, the periodogram, the structure function and the ACF\n",
    "# shown for the example with tau_{break} = 100, i.e., example 2\n",
    "plt.figure(figsize=(30,8))\n",
    "plt.subplot(121)\n",
    "plt.plot(delc_2_3.flux)\n",
    "plt.title('SFR history')\n",
    "plt.xlabel('time [Myr]')\n",
    "plt.ylabel('$\\\\Delta_{MS}$ ')\n",
    "\n",
    "plt.subplot(122)\n",
    "plt.plot(np.log10(delc_2_3.periodogram[0]),np.log10(delc_2_3.periodogram[1]),label='numerical realization')\n",
    "#plt.plot(np.log10(frequency),np.log10(explicit2)+np.log10(delc_flux_2_3.periodogram[1])[0]-np.log10(explicit2)[0],lw=5,label='analytical form')\n",
    "plt.axvline(np.log10(v_bend_1),ls='--',color='black',label='timescale of $\\\\tau_{break1}$')\n",
    "plt.axvline(np.log10(v_bend_2),ls='--',color='black',label='timescale of $\\\\tau_{break2}$')\n",
    "plt.title('Periodogram')\n",
    "plt.xlabel('frequency [1/Myr]')\n",
    "plt.ylabel('PSD')\n",
    "\n",
    "plt.plot(np.arange(-5,+0,0.1),np.log10(PSD_2)-np.log10(PSD_2)[v_bend_1_index]+np.log10(delc_2_3.periodogram[1])[v_bend_1_delc_index], label='slope='+str(a_low)+' then '+str(a_high),)\n",
    "plt.plot(np.arange(-5,+0,0.1),np.log10(PSD_4)-np.log10(PSD_4)[v_bend_2_index]+np.log10(delc_2_3.periodogram[1])[v_bend_2_delc_index], label='slope='+str(a_high)+' then '+str(a_high+2))\n",
    "plt.plot(np.arange(-5,0,0.1),np.log10(PSD_2_4)-np.log10(PSD_2_4)[v_bend_1_index]+np.log10(delc_2_3.periodogram[1])[v_bend_1_delc_index], label='slope='+str(a_low)+' then '+str(a_high)+' then '+str(a_high+2))\n",
    "\n",
    "plt.legend()\n",
    "\n",
    "\n",
    "\n",
    "plt.tight_layout(pad=0.4, w_pad=0.5, h_pad=1.0)"
   ]
  },
  {
   "cell_type": "code",
   "execution_count": null,
   "metadata": {
    "collapsed": true
   },
   "outputs": [],
   "source": []
  },
  {
   "cell_type": "code",
   "execution_count": null,
   "metadata": {
    "collapsed": true
   },
   "outputs": [],
   "source": []
  }
 ],
 "metadata": {
  "kernelspec": {
   "display_name": "Python 3",
   "language": "python",
   "name": "python3"
  },
  "language_info": {
   "codemirror_mode": {
    "name": "ipython",
    "version": 3
   },
   "file_extension": ".py",
   "mimetype": "text/x-python",
   "name": "python",
   "nbconvert_exporter": "python",
   "pygments_lexer": "ipython3",
   "version": "3.6.9"
  },
  "toc": {
   "base_numbering": 1,
   "nav_menu": {},
   "number_sections": true,
   "sideBar": true,
   "skip_h1_title": false,
   "title_cell": "Table of Contents",
   "title_sidebar": "Contents",
   "toc_cell": false,
   "toc_position": {},
   "toc_section_display": true,
   "toc_window_display": false
  }
 },
 "nbformat": 4,
 "nbformat_minor": 2
}
